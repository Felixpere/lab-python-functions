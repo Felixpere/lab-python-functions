{
 "cells": [
  {
   "cell_type": "markdown",
   "id": "25d7736c-ba17-4aff-b6bb-66eba20fbf4e",
   "metadata": {},
   "source": [
    "# Lab | Functions"
   ]
  },
  {
   "cell_type": "markdown",
   "id": "0c581062-8967-4d93-b06e-62833222f930",
   "metadata": {
    "tags": []
   },
   "source": [
    "## Exercise: Managing Customer Orders with Functions\n",
    "\n",
    "In the previous exercise, you improved the code for managing customer orders by using loops and flow control. Now, let's take it a step further and refactor the code by introducing functions.\n",
    "\n",
    "Follow the steps below to complete the exercise:\n",
    "\n",
    "1. Define a function named `initialize_inventory` that takes `products` as a parameter. Inside the function, implement the code for initializing the inventory dictionary using a loop and user input.\n",
    "\n",
    "2. Define a function named `get_customer_orders` that takes no parameters. Inside the function, implement the code for prompting the user to enter the product names using a loop. The function should return the `customer_orders` set.\n",
    "\n",
    "3. Define a function named `update_inventory` that takes `customer_orders` and `inventory` as parameters. Inside the function, implement the code for updating the inventory dictionary based on the customer orders.\n",
    "\n",
    "4. Define a function named `calculate_order_statistics` that takes `customer_orders` and `products` as parameters. Inside the function, implement the code for calculating the order statistics (total products ordered, and percentage of unique products ordered). The function should return these values.\n",
    "\n",
    "5. Define a function named `print_order_statistics` that takes `order_statistics` as a parameter. Inside the function, implement the code for printing the order statistics.\n",
    "\n",
    "6. Define a function named `print_updated_inventory` that takes `inventory` as a parameter. Inside the function, implement the code for printing the updated inventory.\n",
    "\n",
    "7. Call the functions in the appropriate sequence to execute the program and manage customer orders.\n",
    "\n",
    "Hints for functions:\n",
    "\n",
    "- Consider the input parameters required for each function and their return values.\n",
    "- Utilize function parameters and return values to transfer data between functions.\n",
    "- Test your functions individually to ensure they work correctly.\n",
    "\n",
    "\n"
   ]
  },
  {
   "cell_type": "code",
   "execution_count": 32,
   "id": "3d7f2036-e408-4e2c-8c1a-e429eb6709b7",
   "metadata": {},
   "outputs": [
    {
     "name": "stdin",
     "output_type": "stream",
     "text": [
      "How many t-shirt do you have in stock?  10\n",
      "How many mug do you have in stock?  15\n",
      "How many hat do you have in stock?  10\n",
      "How many book do you have in stock?  15\n",
      "How many keychain do you have in stock?  10\n"
     ]
    },
    {
     "name": "stdout",
     "output_type": "stream",
     "text": [
      "{'t-shirt': 10, 'mug': 15, 'hat': 10, 'book': 15, 'keychain': 10}\n"
     ]
    }
   ],
   "source": [
    "#1\n",
    "products = [\"t-shirt\", \"mug\", \"hat\", \"book\", \"keychain\"]\n",
    "\n",
    "def initialize_inventory(products):\n",
    "    inventory = {}\n",
    "\n",
    "    for product in products:\n",
    "        quantity = int(input(f\"How many {product} do you have in stock? \"))\n",
    "        inventory[product] = quantity\n",
    "        \n",
    "    return inventory\n",
    "\n",
    "inventory = initialize_inventory(products)\n",
    "print(inventory)"
   ]
  },
  {
   "cell_type": "code",
   "execution_count": 11,
   "id": "56071c5d-645d-4dc1-ad72-3b6056eddf07",
   "metadata": {},
   "outputs": [
    {
     "name": "stdin",
     "output_type": "stream",
     "text": [
      "How many t-shirt do you have in stock?  10\n",
      "How many mug do you have in stock?  10\n",
      "How many hat do you have in stock?  10\n",
      "How many book do you have in stock?  10\n",
      "How many keychain do you have in stock?  10\n",
      "Type a product (t-shirt, mug, hat, book, keychain):  mug\n"
     ]
    },
    {
     "name": "stdout",
     "output_type": "stream",
     "text": [
      "mug added.\n"
     ]
    },
    {
     "name": "stdin",
     "output_type": "stream",
     "text": [
      "Add another product? (yes/no):  yes\n",
      "Type a product (t-shirt, mug, hat, book, keychain):  book\n"
     ]
    },
    {
     "name": "stdout",
     "output_type": "stream",
     "text": [
      "book added.\n"
     ]
    },
    {
     "name": "stdin",
     "output_type": "stream",
     "text": [
      "Add another product? (yes/no):  no\n"
     ]
    },
    {
     "name": "stdout",
     "output_type": "stream",
     "text": [
      "Updated Inventory:\n",
      "t-shirt: 10\n",
      "mug: 9\n",
      "hat: 10\n",
      "book: 9\n",
      "keychain: 10\n"
     ]
    }
   ],
   "source": [
    "products = [\"t-shirt\", \"mug\", \"hat\", \"book\", \"keychain\"]\n",
    "\n",
    "def initialize_inventory(products):\n",
    "    inventory = {}\n",
    "    for product in products:\n",
    "        quantity = int(input(f\"How many {product} do you have in stock? \"))\n",
    "        inventory[product] = quantity\n",
    "    return inventory\n",
    "#2\n",
    "def get_customer_orders():\n",
    "    customer_orders = set()\n",
    "    continue_ordering = \"yes\"\n",
    "    \n",
    "    while continue_ordering == \"yes\":\n",
    "        product = input(\"Type a product (t-shirt, mug, hat, book, keychain): \")\n",
    "\n",
    "        if product in products:\n",
    "            customer_orders.add(product)\n",
    "            print(product, \"added.\")\n",
    "        else:\n",
    "            print(\"That is not a valid product.\")\n",
    "\n",
    "        continue_ordering = input(\"Add another product? (yes/no): \")\n",
    "        while continue_ordering != \"yes\" and continue_ordering != \"no\":\n",
    "            print(\"Type yes or no.\")\n",
    "            continue_ordering = input(\"Add another product) (yes/no): \")\n",
    "\n",
    "    return customer_orders\n",
    "\n",
    "#3\n",
    "def update_inventory(customer_orders, inventory):\n",
    "    for product in customer_orders:\n",
    "        if product in inventory:\n",
    "            if inventory[product] > 0:\n",
    "                inventory[product] = inventory[product] - 1\n",
    "\n",
    "inventory = initialize_inventory(products)\n",
    "customer_orders = get_customer_orders()\n",
    "update_inventory(customer_orders, inventory)\n",
    "                \n",
    "print(\"Updated Inventory:\")\n",
    "for item in inventory:\n",
    "    print(item + \":\", inventory[item])"
   ]
  },
  {
   "cell_type": "code",
   "execution_count": 32,
   "id": "769d18ab-8d49-4e78-b9ce-c245e7bf36cb",
   "metadata": {},
   "outputs": [
    {
     "name": "stdout",
     "output_type": "stream",
     "text": [
      "Total products ordered: 2\n",
      "Percentage of unique products ordered: 40.0%\n"
     ]
    },
    {
     "name": "stdin",
     "output_type": "stream",
     "text": [
      "How many t-shirt do you have in stock?  10\n",
      "How many mug do you have in stock?  10\n",
      "How many hat do you have in stock?  10\n",
      "How many book do you have in stock?  10\n",
      "How many keychain do you have in stock?  10\n",
      "Type a product (t-shirt, mug, hat, book, keychain):  mug\n"
     ]
    },
    {
     "name": "stdout",
     "output_type": "stream",
     "text": [
      "mug added.\n"
     ]
    },
    {
     "name": "stdin",
     "output_type": "stream",
     "text": [
      "Add another product? (yes/no):  yes\n",
      "Type a product (t-shirt, mug, hat, book, keychain):  muh\n"
     ]
    },
    {
     "name": "stdout",
     "output_type": "stream",
     "text": [
      "That is not a valid product.\n"
     ]
    },
    {
     "name": "stdin",
     "output_type": "stream",
     "text": [
      "Add another product? (yes/no):  yes\n",
      "Type a product (t-shirt, mug, hat, book, keychain):  mug\n"
     ]
    },
    {
     "name": "stdout",
     "output_type": "stream",
     "text": [
      "mug added.\n"
     ]
    },
    {
     "name": "stdin",
     "output_type": "stream",
     "text": [
      "Add another product? (yes/no):  yes\n",
      "Type a product (t-shirt, mug, hat, book, keychain):  hat\n"
     ]
    },
    {
     "name": "stdout",
     "output_type": "stream",
     "text": [
      "hat added.\n"
     ]
    },
    {
     "name": "stdin",
     "output_type": "stream",
     "text": [
      "Add another product? (yes/no):  yes\n",
      "Type a product (t-shirt, mug, hat, book, keychain):  book\n"
     ]
    },
    {
     "name": "stdout",
     "output_type": "stream",
     "text": [
      "book added.\n"
     ]
    },
    {
     "name": "stdin",
     "output_type": "stream",
     "text": [
      "Add another product? (yes/no):  yes\n",
      "Type a product (t-shirt, mug, hat, book, keychain):  hay\n"
     ]
    },
    {
     "name": "stdout",
     "output_type": "stream",
     "text": [
      "That is not a valid product.\n"
     ]
    },
    {
     "name": "stdin",
     "output_type": "stream",
     "text": [
      "Add another product? (yes/no):  hat\n"
     ]
    },
    {
     "name": "stdout",
     "output_type": "stream",
     "text": [
      "Type yes or no.\n"
     ]
    },
    {
     "name": "stdin",
     "output_type": "stream",
     "text": [
      "Add another product) (yes/no):  yes\n",
      "Type a product (t-shirt, mug, hat, book, keychain):  book\n"
     ]
    },
    {
     "name": "stdout",
     "output_type": "stream",
     "text": [
      "book added.\n"
     ]
    },
    {
     "name": "stdin",
     "output_type": "stream",
     "text": [
      "Add another product? (yes/no):  no\n"
     ]
    },
    {
     "name": "stdout",
     "output_type": "stream",
     "text": [
      "Total products ordered: 3\n",
      "Percentage of unique products ordered: 60.0%\n",
      "Updated Inventory:\n",
      "t-shirt: 10\n",
      "mug: 9\n",
      "hat: 9\n",
      "book: 9\n",
      "keychain: 10\n"
     ]
    }
   ],
   "source": [
    "#4\n",
    "def calculate_order_statistics(customer_orders, products):\n",
    "    total_ordered = len(customer_orders) \n",
    "    total_products = len(products)   \n",
    "\n",
    "    if total_products > 0:\n",
    "        percentage_unique = (total_ordered / total_products) * 100\n",
    "    else:\n",
    "        percentage_unique = 0\n",
    "\n",
    "    return total_ordered, percentage_unique\n",
    "\n",
    "\n",
    "#5\n",
    "def print_order_statistics(order_statistics):\n",
    "    total_ordered, percentage_unique = order_statistics\n",
    "    print(\"Total products ordered:\", total_ordered)\n",
    "    print(\"Percentage of unique products ordered:\", str(percentage_unique) + \"%\")\n",
    "\n",
    "order_statistics = calculate_order_statistics(customer_orders, products)\n",
    "print_order_statistics(order_statistics)\n",
    "\n",
    "#6\n",
    "def print_updated_inventory(inventory):\n",
    "    print(\"Updated Inventory:\")\n",
    "    for item in inventory:\n",
    "        print(item + \":\", inventory[item])\n",
    "\n",
    "#7\n",
    "inventory = initialize_inventory(products)\n",
    "customer_orders = get_customer_orders()\n",
    "update_inventory(customer_orders, inventory)\n",
    "order_statistics = calculate_order_statistics(customer_orders, products)\n",
    "print_order_statistics(order_statistics)\n",
    "print_updated_inventory(inventory)"
   ]
  },
  {
   "cell_type": "code",
   "execution_count": 20,
   "id": "86c23313-0aa8-4620-a8c1-55ac4c1073c6",
   "metadata": {},
   "outputs": [],
   "source": []
  },
  {
   "cell_type": "code",
   "execution_count": null,
   "id": "f319f068-5e64-4000-85f5-436e9f2e1c03",
   "metadata": {},
   "outputs": [
    {
     "name": "stdout",
     "output_type": "stream",
     "text": [
      "Available products: ['t-shirt', 'mug', 'hat', 'book', 'keychain']\n"
     ]
    }
   ],
   "source": [
    "#code from lab python flow controlº\n",
    "products = [\"t-shirt\", \"mug\", \"hat\", \"book\", \"keychain\"]\n",
    "customer_orders = []\n",
    "\n",
    "print(\"Available products:\", products)\n",
    "\n",
    "continue_ordering = \"yes\"\n",
    "\n",
    "while continue_ordering == \"yes\":\n",
    "    product = input(\"Enter a product name: \")\n",
    "\n",
    "    if product in products:\n",
    "        customer_orders.append(product)\n",
    "        print(product, \"added to your order.\")\n",
    "    else:\n",
    "        print(\"Try again.\")\n",
    "\n",
    "    continue_ordering = input(\"Add another product? (yes/no): \").lower()\n",
    "\n",
    "    while continue_ordering not in [\"yes\", \"no\"]:\n",
    "        print(\"only 'yes' or 'no'.\")\n",
    "        continue_ordering = input(\"add another product? (yes/no): \").lower()"
   ]
  },
  {
   "cell_type": "code",
   "execution_count": 31,
   "id": "8c407e0d-ec69-44ce-afa0-8de71d258697",
   "metadata": {},
   "outputs": [
    {
     "name": "stdout",
     "output_type": "stream",
     "text": [
      "Updated Inventory:\n",
      "t-shirt: 9\n",
      "mug: 5\n",
      "hat: 7\n",
      "book: 8\n",
      "keychain: 4\n"
     ]
    }
   ],
   "source": [
    "#code from lab python flow control#\n",
    "inventory = {\n",
    "    \"t-shirt\": 10,\n",
    "    \"mug\": 5,\n",
    "    \"hat\": 7,\n",
    "    \"book\": 8,\n",
    "    \"keychain\": 4\n",
    "}\n",
    "\n",
    "for product_ordered in customer_orders:\n",
    "    if product_ordered in inventory and inventory[product_ordered] > 0:\n",
    "        inventory[product_ordered] -= 1\n",
    "\n",
    "print(\"Updated Inventory:\")\n",
    "for item in inventory:\n",
    "    print(item + \":\", inventory[item])"
   ]
  }
 ],
 "metadata": {
  "kernelspec": {
   "display_name": "Python 3 (ipykernel)",
   "language": "python",
   "name": "python3"
  },
  "language_info": {
   "codemirror_mode": {
    "name": "ipython",
    "version": 3
   },
   "file_extension": ".py",
   "mimetype": "text/x-python",
   "name": "python",
   "nbconvert_exporter": "python",
   "pygments_lexer": "ipython3",
   "version": "3.12.7"
  }
 },
 "nbformat": 4,
 "nbformat_minor": 5
}
